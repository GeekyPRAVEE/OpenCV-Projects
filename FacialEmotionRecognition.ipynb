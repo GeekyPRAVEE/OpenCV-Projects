{ 
 "cells": [ 
  {
   "cell_type": "code",
   "execution_count": 1,
   "id": "broke-surgery",
   "metadata": {},
   "outputs": [],
   "source": [
    "from facial_emotion_recognition import EmotionRecognition\n",
    "import cv2"
   ]
  },
  {
   "cell_type": "code",
   "execution_count": 2,
   "id": "bottom-paragraph",
   "metadata": {},
   "outputs": [
    {
     "name": "stdout",
     "output_type": "stream",
     "text": [
      "[*] Accuracy: 0.9565809379727686\n",
      "No face detected\n",
      "No face detected\n",
      "No face detected\n",
      "No face detected\n",
      "No face detected\n"
     ]
    }
   ],
   "source": [
    "er = EmotionRecognition(device='gpu')\n",
    "cam = cv2.VideoCapture(0)\n",
    "while True:\n",
    "    success, frame = cam.read()\n",
    "    frame = er.recognise_emotion(frame, return_type='BGR')\n",
    "    cv2.imshow('frame', frame)\n",
    "    key = cv2.waitKey(1)\n",
    "    if key == 27:\n",
    "        break\n",
    "cam.release()\n",
    "cv2.destroyAllWindows()"
   ]
  },
  {
   "cell_type": "code",
   "execution_count": null,
   "id": "furnished-observer",
   "metadata": {},
   "outputs": [],
   "source": []
  }
 ],
 "metadata": {
  "kernelspec": {
   "display_name": "Python 3",
   "language": "python",
   "name": "python3"
  },
  "language_info": {
   "codemirror_mode": {
    "name": "ipython",
    "version": 3
   },
   "file_extension": ".py",
   "mimetype": "text/x-python",
   "name": "python",
   "nbconvert_exporter": "python",
   "pygments_lexer": "ipython3",
   "version": "3.6.3"
  }
 },
 "nbformat": 4,
 "nbformat_minor": 5
}
